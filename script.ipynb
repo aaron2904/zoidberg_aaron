{
 "cells": [
  {
   "cell_type": "code",
   "execution_count": null,
   "id": "a3dbd3b2",
   "metadata": {},
   "outputs": [],
   "source": [
    "pip install tensorflow\n"
   ]
  },
  {
   "cell_type": "code",
   "execution_count": 3,
   "id": "7ba58b8a",
   "metadata": {
    "scrolled": true
   },
   "outputs": [],
   "source": [
    "import tensorflow as tf\n",
    "import keras\n",
    "import os\n",
    "import glob\n",
    "import numpy as np\n",
    "import matplotlib.pyplot as plt"
   ]
  },
  {
   "cell_type": "code",
   "execution_count": null,
   "id": "3169e7ae",
   "metadata": {},
   "outputs": [],
   "source": [
    "gpus = tf.config.experimental.list_physical_devices('GPU')\n",
    "print(gpus)\n",
    "if gpus:\n",
    "  try:\n",
    "    for gpu in gpus:\n",
    "      tf.config.experimental.set_memory_growth(gpu, True)\n",
    "  except RuntimeError as e:\n",
    "    print(e)"
   ]
  },
  {
   "cell_type": "code",
   "execution_count": null,
   "id": "dd16ed77",
   "metadata": {},
   "outputs": [],
   "source": [
    "# Set seed for reproducibility\n",
    "tf.random.set_seed(42)\n",
    "\n",
    "test_normal_path = \"test/NORMAL/*.jpeg\"\n",
    "test_pneumonia_path = \"test/PNEUMONIA/*.jpeg\"\n",
    "\n",
    "train_normal_path = \"train/NORMAL/*.jpeg\"\n",
    "train_pneumonia_path = \"train/PNEUMONIA/*.jpeg\"\n",
    "\n",
    "val_normal_path = \"val/NORMAL/*.jpeg\"\n",
    "val_pneumonia_path = \"val/PNEUMONIA/*.jpeg\"\n",
    "\n",
    "last_test_normal_path = \"last_test/*.jpeg\"\n",
    "\n",
    "# Loading test image paths\n",
    "test_normal_files = glob.glob(test_normal_path)\n",
    "test_pneumonia_files = glob.glob(test_pneumonia_path)\n",
    "\n",
    "# Loading training image paths\n",
    "train_normal_files = glob.glob(train_normal_path)\n",
    "train_pneumonia_files = glob.glob(train_pneumonia_path)\n",
    "\n",
    "# Loading validation image paths\n",
    "val_normal_files = glob.glob(val_normal_path)\n",
    "val_pneumonia_files = glob.glob(val_pneumonia_path)\n",
    "\n",
    "# Loading last test image paths\n",
    "last_test_files = glob.glob(last_test_normal_path)\n",
    "\n",
    "print(\"Number of normal test images:\", len(test_normal_files))\n",
    "print(\"Number of pneumonia test images:\", len(test_pneumonia_files))\n",
    "print(\"Number of normal training images:\", len(train_normal_files))\n",
    "print(\"Number of pneumonia training images:\", len(train_pneumonia_files))\n",
    "# print(\"Number of normal validation images:\", len(val_normal_files))\n",
    "# print(\"Number of pneumonia validation images:\", len(val_pneumonia_files))\n"
   ]
  },
  {
   "cell_type": "code",
   "execution_count": 6,
   "id": "9268b361",
   "metadata": {},
   "outputs": [],
   "source": [
    "# Creation of matrix and label arrays\n",
    "\n",
    "# Train\n",
    "train_matrix = []\n",
    "train_label = []\n",
    "\n",
    "# Test\n",
    "test_matrix = []\n",
    "test_label = []\n",
    "\n",
    "# Validation\n",
    "val_matrix = []\n",
    "val_label = []\n",
    "\n",
    "last_test_matrix = []\n",
    "last_test_label = []"
   ]
  },
  {
   "cell_type": "code",
   "execution_count": 7,
   "id": "9d0dd37a",
   "metadata": {},
   "outputs": [],
   "source": [
    "def image_to_matrix(files, label, matrix_array, label_array):\n",
    "    for file in files:\n",
    "        file_data = tf.io.read_file(file)\n",
    "        # Decode the image into a pixel matrix\n",
    "        matrix = tf.image.decode_jpeg(file_data, channels=3)\n",
    "\n",
    "        # Resize the matrix\n",
    "        matrix = tf.image.resize(matrix, [150, 150])\n",
    "        \n",
    "        # Normalize the pixels between 0 and 1\n",
    "        matrix = matrix / 255.0\n",
    "        \n",
    "        # Add the matrix to the matrix array\n",
    "        matrix_array.append(matrix)\n",
    "        \n",
    "        # Add the label to the label array\n",
    "        # 0 = Normal\n",
    "        # 1 = Pneumonia\n",
    "        label_array.append(label)"
   ]
  },
  {
   "cell_type": "code",
   "execution_count": null,
   "id": "a0557e6b",
   "metadata": {},
   "outputs": [],
   "source": [
    "image_to_matrix(train_normal_files, 0, train_matrix, train_label)\n",
    "image_to_matrix(train_pneumonia_files, 1, train_matrix, train_label)\n",
    "\n",
    "image_to_matrix(test_normal_files, 0, test_matrix, test_label)\n",
    "image_to_matrix(test_pneumonia_files, 1, test_matrix, test_label)\n",
    "\n",
    "image_to_matrix(val_normal_files, 0, val_matrix, val_label)\n",
    "image_to_matrix(val_pneumonia_files, 1, val_matrix, val_label)\n",
    "\n",
    "image_to_matrix(last_test_files, 0, last_test_matrix, last_test_label)\n",
    "\n",
    "print(\"Number of images in the train array:\", len(train_matrix))\n",
    "print(\"Number of labels in the train array:\", len(train_label))\n",
    "\n",
    "print(\"Number of images in the test array:\", len(test_matrix))\n",
    "print(\"Number of labels in the test array:\", len(test_label))\n",
    "\n",
    "print(\"Number of images in the validation array:\", len(val_matrix))\n",
    "print(\"Number of labels in the validation array:\", len(val_label))\n"
   ]
  },
  {
   "cell_type": "code",
   "execution_count": 9,
   "id": "c08dbec7",
   "metadata": {},
   "outputs": [],
   "source": [
    "# Set seed for reproducibility\n",
    "tf.random.set_seed(42)\n",
    "\n",
    "# Create the model\n",
    "model = tf.keras.models.Sequential([\n",
    "    tf.keras.layers.Conv2D(32, (3, 3), activation='relu', input_shape=(150, 150, 3)),\n",
    "    tf.keras.layers.MaxPooling2D((2, 2)),\n",
    "    tf.keras.layers.Conv2D(64, (3, 3), activation='relu'),\n",
    "    tf.keras.layers.MaxPooling2D((2, 2)),\n",
    "    tf.keras.layers.Conv2D(128, (3, 3), activation='relu'),\n",
    "    tf.keras.layers.MaxPooling2D((2, 2)),\n",
    "    tf.keras.layers.Conv2D(128, (3, 3), activation='relu'),\n",
    "    tf.keras.layers.MaxPooling2D((2, 2)),\n",
    "    tf.keras.layers.Flatten(),\n",
    "    tf.keras.layers.Dense(512, activation='relu'),\n",
    "    tf.keras.layers.Dense(1, activation='sigmoid')\n",
    "])"
   ]
  },
  {
   "cell_type": "code",
   "execution_count": null,
   "id": "62a4f1b2",
   "metadata": {},
   "outputs": [],
   "source": [
    "# Summary du modèle\n",
    "model.summary()"
   ]
  },
  {
   "cell_type": "code",
   "execution_count": 11,
   "id": "65ac428c",
   "metadata": {},
   "outputs": [],
   "source": [
    "# Model Compilation\n",
    "model.compile(optimizer='adam', loss='binary_crossentropy', metrics=['accuracy'])"
   ]
  },
  {
   "cell_type": "code",
   "execution_count": null,
   "id": "cf08b7a5",
   "metadata": {
    "scrolled": true
   },
   "outputs": [],
   "source": [
    "# Conversion of arrays to tensors\n",
    "train_matrix_np = np.array(train_matrix, dtype=np.float32)\n",
    "train_label_np = np.array(train_label, dtype=np.float32)\n",
    "test_matrix_np = np.array(test_matrix, dtype=np.float32)\n",
    "test_label_np = np.array(test_label, dtype=np.float32)\n",
    "val_matrix_np = np.array(val_matrix, dtype=np.float32)\n",
    "val_label_np = np.array(val_label, dtype=np.float32)\n",
    "last_test_matrix_np = np.array(last_test_matrix, dtype=np.float32)\n",
    "\n",
    "history = model.fit(train_matrix_np, train_label_np, epochs=5, \n",
    "                    validation_data=(test_matrix_np, test_label_np))"
   ]
  },
  {
   "cell_type": "code",
   "execution_count": null,
   "id": "88e97fbf",
   "metadata": {},
   "outputs": [],
   "source": [
    "plt.plot(history.history['accuracy'], label='accuracy')\n",
    "plt.plot(history.history['val_accuracy'], label = 'val_accuracy')\n",
    "plt.xlabel('Epoch')\n",
    "plt.ylabel('Accuracy')\n",
    "plt.ylim([0.5, 1])\n",
    "plt.legend(loc='lower right')\n",
    "\n",
    "test_loss, test_acc = model.evaluate(test_matrix_np,  test_label_np, verbose=2)"
   ]
  },
  {
   "cell_type": "code",
   "execution_count": null,
   "id": "2727628d",
   "metadata": {},
   "outputs": [],
   "source": [
    "test_loss, test_acc = model.evaluate(test_matrix_np,  test_label_np, verbose=2)\n",
    "print(test_loss, test_acc)"
   ]
  },
  {
   "cell_type": "code",
   "execution_count": null,
   "id": "1f252e0b",
   "metadata": {},
   "outputs": [],
   "source": [
    "print(test_acc)"
   ]
  },
  {
   "cell_type": "code",
   "execution_count": 16,
   "id": "89121761",
   "metadata": {},
   "outputs": [],
   "source": [
    "# Saving the model\n",
    "model.save('model.h5')"
   ]
  },
  {
   "cell_type": "code",
   "execution_count": null,
   "id": "1b6e3c7f",
   "metadata": {},
   "outputs": [],
   "source": []
  }
 ],
 "metadata": {
  "kernelspec": {
   "display_name": "Python 3 (ipykernel)",
   "language": "python",
   "name": "python3"
  },
  "language_info": {
   "codemirror_mode": {
    "name": "ipython",
    "version": 3
   },
   "file_extension": ".py",
   "mimetype": "text/x-python",
   "name": "python",
   "nbconvert_exporter": "python",
   "pygments_lexer": "ipython3",
   "version": "3.9.13"
  }
 },
 "nbformat": 4,
 "nbformat_minor": 5
}
